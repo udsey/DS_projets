{
  "nbformat": 4,
  "nbformat_minor": 0,
  "metadata": {
    "colab": {
      "name": "Project_Trader.ipynb",
      "provenance": [],
      "collapsed_sections": []
    },
    "kernelspec": {
      "name": "python3",
      "display_name": "Python 3"
    }
  },
  "cells": [
    {
      "cell_type": "markdown",
      "metadata": {
        "id": "BZDXOZX6eSim"
      },
      "source": [
        "Для успешного выполнения этого задания вам предлагается “залезть в шкуру” трейдера.\n",
        "\n",
        " Имеются исторические данные по курсам валют (подсказка: ищите нужные данные в Example 2)  от ЦБ России. Пусть ваша команда выберет 5 валют (выберите любые валюты, которые вам интересны) и найдите ответы на следующие вопросы:\n",
        "* для каждых последовательных 7 дней (например: 01.01.2000-07.01.2000, 02.01.2000-08.01.2000 и т. п.) найдите самую выгодную валюту - ту, относительно которой все остальные падали\n",
        "\n",
        "* для каждого 30-дневного промежутка определите, на сколько процентов вы могли бы увеличить свой капитал за 30 дней, если бы знали курсы валют наперёд - считайте, что вечером вы можете перекладывать все ваши средства в одну или несколько валют, \n",
        "* найдите самый выгодный такой период\n",
        "найдите наиболее и наименее коррелированные (по отношению друг к другу) валюты в каждом календарном году. Для этого посчитайте коэффициенты корреляции по данным за все 365/366 дней каждого года. Попробуйте выдвинуть гипотезы, почему случались те или иные взлёты/падения, в зависимости от политических и исторических событий.\n"
      ]
    },
    {
      "cell_type": "code",
      "metadata": {
        "id": "6OmOj-JlBwGW"
      },
      "source": [
        "!pip install --quiet --upgrade --user nest_asyncio"
      ],
      "execution_count": null,
      "outputs": []
    },
    {
      "cell_type": "code",
      "metadata": {
        "id": "lxuaWUZxPKGq",
        "outputId": "a1079b0d-0b46-4059-f0aa-042bcaf93cbf",
        "colab": {
          "base_uri": "https://localhost:8080/",
          "height": 425
        }
      },
      "source": [
        "!pip install aiohttp"
      ],
      "execution_count": null,
      "outputs": [
        {
          "output_type": "stream",
          "text": [
            "Collecting aiohttp\n",
            "\u001b[?25l  Downloading https://files.pythonhosted.org/packages/7c/39/7eb5f98d24904e0f6d3edb505d4aa60e3ef83c0a58d6fe18244a51757247/aiohttp-3.6.2-cp36-cp36m-manylinux1_x86_64.whl (1.2MB)\n",
            "\u001b[K     |████████████████████████████████| 1.2MB 2.8MB/s \n",
            "\u001b[?25hCollecting idna-ssl>=1.0; python_version < \"3.7\"\n",
            "  Downloading https://files.pythonhosted.org/packages/46/03/07c4894aae38b0de52b52586b24bf189bb83e4ddabfe2e2c8f2419eec6f4/idna-ssl-1.1.0.tar.gz\n",
            "Collecting yarl<2.0,>=1.0\n",
            "\u001b[?25l  Downloading https://files.pythonhosted.org/packages/01/c9/379b807a9c298b9694d0af8ee4260be7d40ab1a11fb9d4ae9e70b1e69d96/yarl-1.6.0-cp36-cp36m-manylinux1_x86_64.whl (257kB)\n",
            "\u001b[K     |████████████████████████████████| 266kB 20.8MB/s \n",
            "\u001b[?25hCollecting multidict<5.0,>=4.5\n",
            "\u001b[?25l  Downloading https://files.pythonhosted.org/packages/1a/95/f50352b5366e7d579e8b99631680a9e32e1b22adfa1629a8f23b1d22d5e2/multidict-4.7.6-cp36-cp36m-manylinux1_x86_64.whl (148kB)\n",
            "\u001b[K     |████████████████████████████████| 153kB 18.1MB/s \n",
            "\u001b[?25hRequirement already satisfied: attrs>=17.3.0 in /usr/local/lib/python3.6/dist-packages (from aiohttp) (20.2.0)\n",
            "Requirement already satisfied: typing-extensions>=3.6.5; python_version < \"3.7\" in /usr/local/lib/python3.6/dist-packages (from aiohttp) (3.7.4.3)\n",
            "Requirement already satisfied: chardet<4.0,>=2.0 in /usr/local/lib/python3.6/dist-packages (from aiohttp) (3.0.4)\n",
            "Collecting async-timeout<4.0,>=3.0\n",
            "  Downloading https://files.pythonhosted.org/packages/e1/1e/5a4441be21b0726c4464f3f23c8b19628372f606755a9d2e46c187e65ec4/async_timeout-3.0.1-py3-none-any.whl\n",
            "Requirement already satisfied: idna>=2.0 in /usr/local/lib/python3.6/dist-packages (from idna-ssl>=1.0; python_version < \"3.7\"->aiohttp) (2.10)\n",
            "Building wheels for collected packages: idna-ssl\n",
            "  Building wheel for idna-ssl (setup.py) ... \u001b[?25l\u001b[?25hdone\n",
            "  Created wheel for idna-ssl: filename=idna_ssl-1.1.0-cp36-none-any.whl size=3161 sha256=e63a7dda78979fc80cfd43bf6804caf5ba871abec32277bad45298df5b7636d8\n",
            "  Stored in directory: /root/.cache/pip/wheels/d3/00/b3/32d613e19e08a739751dd6bf998cfed277728f8b2127ad4eb7\n",
            "Successfully built idna-ssl\n",
            "Installing collected packages: idna-ssl, multidict, yarl, async-timeout, aiohttp\n",
            "Successfully installed aiohttp-3.6.2 async-timeout-3.0.1 idna-ssl-1.1.0 multidict-4.7.6 yarl-1.6.0\n"
          ],
          "name": "stdout"
        }
      ]
    },
    {
      "cell_type": "code",
      "metadata": {
        "id": "K5ZEbc7ggOgZ"
      },
      "source": [
        "import requests\n",
        "import asyncio\n",
        "import datetime\n",
        "import dateutil\n",
        "\n",
        "import xml.etree.ElementTree as ET\n",
        "import pandas as pd\n",
        "import aiohttp\n",
        "import nest_asyncio"
      ],
      "execution_count": null,
      "outputs": []
    },
    {
      "cell_type": "code",
      "metadata": {
        "id": "UoFZtFwKvbEG",
        "outputId": "681bc034-46d6-4c62-de09-0e9b5b41dc2c",
        "colab": {
          "base_uri": "https://localhost:8080/",
          "height": 204
        }
      },
      "source": [
        "# Загрузка таблицы кодов валют\n",
        "\n",
        "req = requests.get(\"http://www.cbr.ru/scripts/XML_valFull.asp\")\n",
        "root = ET.ElementTree(ET.fromstring(req.content)).getroot()\n",
        "\n",
        "\n",
        "df_index = ['name', 'eng_name', 'nominal', 'code', 'ISO_char_code']   \n",
        "currency_code = pd.DataFrame(columns=df_index)  \n",
        "  \n",
        "for element in root:  \n",
        "    elements = [element[0].text, element[1].text, element[2].text, element[3].text.strip(' '), element[5].text]  \n",
        "    currency_code = currency_code.append(pd.Series(elements, index=df_index), ignore_index=True) \n",
        "\n",
        "currency_code.head()"
      ],
      "execution_count": null,
      "outputs": [
        {
          "output_type": "execute_result",
          "data": {
            "text/html": [
              "<div>\n",
              "<style scoped>\n",
              "    .dataframe tbody tr th:only-of-type {\n",
              "        vertical-align: middle;\n",
              "    }\n",
              "\n",
              "    .dataframe tbody tr th {\n",
              "        vertical-align: top;\n",
              "    }\n",
              "\n",
              "    .dataframe thead th {\n",
              "        text-align: right;\n",
              "    }\n",
              "</style>\n",
              "<table border=\"1\" class=\"dataframe\">\n",
              "  <thead>\n",
              "    <tr style=\"text-align: right;\">\n",
              "      <th></th>\n",
              "      <th>name</th>\n",
              "      <th>eng_name</th>\n",
              "      <th>nominal</th>\n",
              "      <th>code</th>\n",
              "      <th>ISO_char_code</th>\n",
              "    </tr>\n",
              "  </thead>\n",
              "  <tbody>\n",
              "    <tr>\n",
              "      <th>0</th>\n",
              "      <td>Австралийский доллар</td>\n",
              "      <td>Australian Dollar</td>\n",
              "      <td>1</td>\n",
              "      <td>R01010</td>\n",
              "      <td>AUD</td>\n",
              "    </tr>\n",
              "    <tr>\n",
              "      <th>1</th>\n",
              "      <td>Австрийский шиллинг</td>\n",
              "      <td>Austrian Shilling</td>\n",
              "      <td>1000</td>\n",
              "      <td>R01015</td>\n",
              "      <td>ATS</td>\n",
              "    </tr>\n",
              "    <tr>\n",
              "      <th>2</th>\n",
              "      <td>Азербайджанский манат</td>\n",
              "      <td>Azerbaijan Manat</td>\n",
              "      <td>1</td>\n",
              "      <td>R01020</td>\n",
              "      <td>AZN</td>\n",
              "    </tr>\n",
              "    <tr>\n",
              "      <th>3</th>\n",
              "      <td>Фунт стерлингов Соединенного королевства</td>\n",
              "      <td>British Pound Sterling</td>\n",
              "      <td>1</td>\n",
              "      <td>R01035</td>\n",
              "      <td>GBP</td>\n",
              "    </tr>\n",
              "    <tr>\n",
              "      <th>4</th>\n",
              "      <td>Ангольская новая кванза</td>\n",
              "      <td>Angolan new Kwanza</td>\n",
              "      <td>100000</td>\n",
              "      <td>R01040</td>\n",
              "      <td>AON</td>\n",
              "    </tr>\n",
              "  </tbody>\n",
              "</table>\n",
              "</div>"
            ],
            "text/plain": [
              "                                       name  ... ISO_char_code\n",
              "0                      Австралийский доллар  ...           AUD\n",
              "1                       Австрийский шиллинг  ...           ATS\n",
              "2                     Азербайджанский манат  ...           AZN\n",
              "3  Фунт стерлингов Соединенного королевства  ...           GBP\n",
              "4                   Ангольская новая кванза  ...           AON\n",
              "\n",
              "[5 rows x 5 columns]"
            ]
          },
          "metadata": {
            "tags": []
          },
          "execution_count": 4
        }
      ]
    },
    {
      "cell_type": "code",
      "metadata": {
        "id": "eneJ9mkd4L8Z"
      },
      "source": [
        "'''\n",
        " Загрузка датафрейма с датой, курсом и номиналом\n",
        " по ISO_char_code\n",
        " '''\n",
        "\n",
        "def load_currancy_by_char_code(char_code, start_date = '02/03/2001', end_date = '14/03/2020'):\n",
        "    code = currency_code[currency_code['ISO_char_code']==char_code].code.values[0]\n",
        "    url = \"http://www.cbr.ru/scripts/XML_dynamic.asp?date_req1={}&date_req2={}&VAL_NM_RQ={}\".format(start_date, end_date, code)\n",
        "    req = requests.get(url)\n",
        "    root = ET.ElementTree(ET.fromstring(req.content)).getroot()\n",
        "    df_index = ['date', 'exchange_rate_{}'.format(char_code), 'nominal_{}'.format(char_code)]\n",
        "    df = pd.DataFrame(columns=df_index)\n",
        "    for element in root:\n",
        "        elements = element.get('Date'), float(element[1].text.replace(',', '.')), element[0].text\n",
        "        df = df.append(pd.Series(elements, index=df_index), ignore_index=True)\n",
        "    return df\n"
      ],
      "execution_count": null,
      "outputs": []
    },
    {
      "cell_type": "code",
      "metadata": {
        "id": "4fOMNMue02xc",
        "outputId": "5c254fb6-865c-4e6d-fe48-208bbeb8c488",
        "colab": {
          "base_uri": "https://localhost:8080/",
          "height": 204
        }
      },
      "source": [
        "load_currancy_by_char_code(char_code = 'AON', start_date = '02/03/2001', end_date = '30/09/2020').head()"
      ],
      "execution_count": null,
      "outputs": [
        {
          "output_type": "execute_result",
          "data": {
            "text/html": [
              "<div>\n",
              "<style scoped>\n",
              "    .dataframe tbody tr th:only-of-type {\n",
              "        vertical-align: middle;\n",
              "    }\n",
              "\n",
              "    .dataframe tbody tr th {\n",
              "        vertical-align: top;\n",
              "    }\n",
              "\n",
              "    .dataframe thead th {\n",
              "        text-align: right;\n",
              "    }\n",
              "</style>\n",
              "<table border=\"1\" class=\"dataframe\">\n",
              "  <thead>\n",
              "    <tr style=\"text-align: right;\">\n",
              "      <th></th>\n",
              "      <th>date</th>\n",
              "      <th>exchange_rate_AON</th>\n",
              "      <th>nominal_AON</th>\n",
              "    </tr>\n",
              "  </thead>\n",
              "  <tbody>\n",
              "    <tr>\n",
              "      <th>0</th>\n",
              "      <td>01.04.2001</td>\n",
              "      <td>15.76</td>\n",
              "      <td>10</td>\n",
              "    </tr>\n",
              "    <tr>\n",
              "      <th>1</th>\n",
              "      <td>01.05.2001</td>\n",
              "      <td>15.80</td>\n",
              "      <td>10</td>\n",
              "    </tr>\n",
              "    <tr>\n",
              "      <th>2</th>\n",
              "      <td>01.06.2001</td>\n",
              "      <td>15.81</td>\n",
              "      <td>10</td>\n",
              "    </tr>\n",
              "    <tr>\n",
              "      <th>3</th>\n",
              "      <td>01.07.2001</td>\n",
              "      <td>14.68</td>\n",
              "      <td>10</td>\n",
              "    </tr>\n",
              "    <tr>\n",
              "      <th>4</th>\n",
              "      <td>01.08.2001</td>\n",
              "      <td>14.59</td>\n",
              "      <td>10</td>\n",
              "    </tr>\n",
              "  </tbody>\n",
              "</table>\n",
              "</div>"
            ],
            "text/plain": [
              "         date  exchange_rate_AON nominal_AON\n",
              "0  01.04.2001              15.76          10\n",
              "1  01.05.2001              15.80          10\n",
              "2  01.06.2001              15.81          10\n",
              "3  01.07.2001              14.68          10\n",
              "4  01.08.2001              14.59          10"
            ]
          },
          "metadata": {
            "tags": []
          },
          "execution_count": 6
        }
      ]
    },
    {
      "cell_type": "code",
      "metadata": {
        "id": "MWInUGGG9W4l"
      },
      "source": [
        "def set_data(data, date):\n",
        "  '''Добавляет данные в dataframe'''\n",
        "  global df\n",
        "  tree = ET.fromstring(data)\n",
        "  for valute in tree.iter('Valute'):\n",
        "    df = df.append({**{'date': date}, **{val.tag: val.text for val in valute}},\n",
        "                   ignore_index=True)\n",
        "  "
      ],
      "execution_count": null,
      "outputs": []
    },
    {
      "cell_type": "code",
      "metadata": {
        "id": "Wxr2e_P_AuD1"
      },
      "source": [
        "async def get_data(sem, url, session, date):\n",
        "  '''Получение данных'''\n",
        "  async with sem:\n",
        "    try:\n",
        "        r = await session.get(url, timeout=False)\n",
        "    except (aiohttp.ClientConnectorError, aiohttp.ServerDisconnectedError, aiohttp.ClientOSError):\n",
        "        print('\\nОшибка подключения.')\n",
        "        return\n",
        "    if r.status == 200:\n",
        "        set_data(await r.text(), date)\n"
      ],
      "execution_count": null,
      "outputs": []
    },
    {
      "cell_type": "code",
      "metadata": {
        "id": "y0a0aVyy8oR_"
      },
      "source": [
        "async def upload_data(date_start, date_end=None):\n",
        "  '''Асинхронная загрузка данных'''\n",
        "  date_end = date_end or datetime.date.today()\n",
        "  if date_end > datetime.date.today():\n",
        "    raise ValueError('Дата окончания не может быть позже текущей')\n",
        "  if date_start > datetime.date.today():\n",
        "    raise ValueError('Дата начала не может быть позже текущей')\n",
        "  async with aiohttp.ClientSession() as session:\n",
        "    tasks = []\n",
        "    sem = asyncio.Semaphore(25)\n",
        "    current_date = date_start\n",
        "    while current_date <= date_end:\n",
        "      task = asyncio.ensure_future(get_data(sem, f'http://www.cbr.ru/scripts/XML_daily.asp?date_req={current_date.strftime(\"%d/%m/%Y\")}', session, current_date))\n",
        "      tasks.append(task)\n",
        "      current_date += datetime.timedelta(days=1)\n",
        "    await asyncio.gather(*tasks)\n",
        "\n"
      ],
      "execution_count": null,
      "outputs": []
    },
    {
      "cell_type": "code",
      "metadata": {
        "id": "74E-J_GPCy_T",
        "outputId": "2b8e85d7-5120-43c1-8e71-088af9ebf74e",
        "colab": {
          "base_uri": "https://localhost:8080/",
          "height": 419
        }
      },
      "source": [
        "df = pd.DataFrame()\n",
        "nest_asyncio.apply()\n",
        "loop = asyncio.get_event_loop()\n",
        "loop.run_until_complete(upload_data(datetime.date.today()-dateutil.relativedelta.relativedelta(months=1), datetime.date.today()))\n",
        "df"
      ],
      "execution_count": null,
      "outputs": [
        {
          "output_type": "execute_result",
          "data": {
            "text/html": [
              "<div>\n",
              "<style scoped>\n",
              "    .dataframe tbody tr th:only-of-type {\n",
              "        vertical-align: middle;\n",
              "    }\n",
              "\n",
              "    .dataframe tbody tr th {\n",
              "        vertical-align: top;\n",
              "    }\n",
              "\n",
              "    .dataframe thead th {\n",
              "        text-align: right;\n",
              "    }\n",
              "</style>\n",
              "<table border=\"1\" class=\"dataframe\">\n",
              "  <thead>\n",
              "    <tr style=\"text-align: right;\">\n",
              "      <th></th>\n",
              "      <th>CharCode</th>\n",
              "      <th>Name</th>\n",
              "      <th>Nominal</th>\n",
              "      <th>NumCode</th>\n",
              "      <th>Value</th>\n",
              "      <th>date</th>\n",
              "    </tr>\n",
              "  </thead>\n",
              "  <tbody>\n",
              "    <tr>\n",
              "      <th>0</th>\n",
              "      <td>AUD</td>\n",
              "      <td>Австралийский доллар</td>\n",
              "      <td>1</td>\n",
              "      <td>036</td>\n",
              "      <td>54,9221</td>\n",
              "      <td>2020-09-17</td>\n",
              "    </tr>\n",
              "    <tr>\n",
              "      <th>1</th>\n",
              "      <td>AZN</td>\n",
              "      <td>Азербайджанский манат</td>\n",
              "      <td>1</td>\n",
              "      <td>944</td>\n",
              "      <td>44,1011</td>\n",
              "      <td>2020-09-17</td>\n",
              "    </tr>\n",
              "    <tr>\n",
              "      <th>2</th>\n",
              "      <td>GBP</td>\n",
              "      <td>Фунт стерлингов Соединенного королевства</td>\n",
              "      <td>1</td>\n",
              "      <td>826</td>\n",
              "      <td>96,6644</td>\n",
              "      <td>2020-09-17</td>\n",
              "    </tr>\n",
              "    <tr>\n",
              "      <th>3</th>\n",
              "      <td>AMD</td>\n",
              "      <td>Армянских драмов</td>\n",
              "      <td>100</td>\n",
              "      <td>051</td>\n",
              "      <td>15,4392</td>\n",
              "      <td>2020-09-17</td>\n",
              "    </tr>\n",
              "    <tr>\n",
              "      <th>4</th>\n",
              "      <td>BYN</td>\n",
              "      <td>Белорусский рубль</td>\n",
              "      <td>1</td>\n",
              "      <td>933</td>\n",
              "      <td>29,0767</td>\n",
              "      <td>2020-09-17</td>\n",
              "    </tr>\n",
              "    <tr>\n",
              "      <th>...</th>\n",
              "      <td>...</td>\n",
              "      <td>...</td>\n",
              "      <td>...</td>\n",
              "      <td>...</td>\n",
              "      <td>...</td>\n",
              "      <td>...</td>\n",
              "    </tr>\n",
              "    <tr>\n",
              "      <th>1083</th>\n",
              "      <td>SEK</td>\n",
              "      <td>Шведских крон</td>\n",
              "      <td>10</td>\n",
              "      <td>752</td>\n",
              "      <td>88,1553</td>\n",
              "      <td>2020-09-30</td>\n",
              "    </tr>\n",
              "    <tr>\n",
              "      <th>1084</th>\n",
              "      <td>CHF</td>\n",
              "      <td>Швейцарский франк</td>\n",
              "      <td>1</td>\n",
              "      <td>756</td>\n",
              "      <td>86,2760</td>\n",
              "      <td>2020-09-30</td>\n",
              "    </tr>\n",
              "    <tr>\n",
              "      <th>1085</th>\n",
              "      <td>ZAR</td>\n",
              "      <td>Южноафриканских рэндов</td>\n",
              "      <td>10</td>\n",
              "      <td>710</td>\n",
              "      <td>46,4064</td>\n",
              "      <td>2020-09-30</td>\n",
              "    </tr>\n",
              "    <tr>\n",
              "      <th>1086</th>\n",
              "      <td>KRW</td>\n",
              "      <td>Вон Республики Корея</td>\n",
              "      <td>1000</td>\n",
              "      <td>410</td>\n",
              "      <td>68,1717</td>\n",
              "      <td>2020-09-30</td>\n",
              "    </tr>\n",
              "    <tr>\n",
              "      <th>1087</th>\n",
              "      <td>JPY</td>\n",
              "      <td>Японских иен</td>\n",
              "      <td>100</td>\n",
              "      <td>392</td>\n",
              "      <td>75,4267</td>\n",
              "      <td>2020-09-30</td>\n",
              "    </tr>\n",
              "  </tbody>\n",
              "</table>\n",
              "<p>1088 rows × 6 columns</p>\n",
              "</div>"
            ],
            "text/plain": [
              "     CharCode                                      Name  ...    Value        date\n",
              "0         AUD                      Австралийский доллар  ...  54,9221  2020-09-17\n",
              "1         AZN                     Азербайджанский манат  ...  44,1011  2020-09-17\n",
              "2         GBP  Фунт стерлингов Соединенного королевства  ...  96,6644  2020-09-17\n",
              "3         AMD                          Армянских драмов  ...  15,4392  2020-09-17\n",
              "4         BYN                         Белорусский рубль  ...  29,0767  2020-09-17\n",
              "...       ...                                       ...  ...      ...         ...\n",
              "1083      SEK                             Шведских крон  ...  88,1553  2020-09-30\n",
              "1084      CHF                         Швейцарский франк  ...  86,2760  2020-09-30\n",
              "1085      ZAR                    Южноафриканских рэндов  ...  46,4064  2020-09-30\n",
              "1086      KRW                      Вон Республики Корея  ...  68,1717  2020-09-30\n",
              "1087      JPY                              Японских иен  ...  75,4267  2020-09-30\n",
              "\n",
              "[1088 rows x 6 columns]"
            ]
          },
          "metadata": {
            "tags": []
          },
          "execution_count": 11
        }
      ]
    },
    {
      "cell_type": "code",
      "metadata": {
        "id": "I0TY1why9q7R"
      },
      "source": [
        ""
      ],
      "execution_count": null,
      "outputs": []
    }
  ]
}