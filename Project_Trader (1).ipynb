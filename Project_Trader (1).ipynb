{
  "nbformat": 4,
  "nbformat_minor": 0,
  "metadata": {
    "colab": {
      "name": "Project_Trader.ipynb",
      "provenance": [],
      "collapsed_sections": []
    },
    "kernelspec": {
      "name": "python3",
      "display_name": "Python 3"
    }
  },
  "cells": [
    {
      "cell_type": "markdown",
      "metadata": {
        "id": "w0cSdBApbL-T"
      },
      "source": [
        "#Трейдер.\n",
        "\n",
        "Для успешного выполнения этого задания вам предлагается “залезть в шкуру” трейдера.\n",
        "\n",
        "Имеются исторические данные по курсам валют от ЦБ России. Пусть ваша команда выберет 5 валют (выберите любые валюты, которые вам интересны) и найдите ответы на следующие вопросы:\n",
        " 1. для каждых последовательных 7 дней (например: 01.01.2000-07.01.2000, 02.01.2000-08.01.2000 и т. п.) найдите самую выгодную валюту - ту, относительно которой все остальные падали\n",
        "\n",
        " 2. для каждого 30-дневного промежутка определите, на сколько процентов вы могли бы увеличить свой капитал за 30 дней, если бы знали курсы валют наперёд - считайте, что вечером вы можете перекладывать все ваши средства в одну или несколько валют, найдите самый выгодный такой период\n",
        " 3. найдите наиболее и наименее коррелированные (по отношению друг к другу) валюты в каждом календарном году. Для этого посчитайте коэффициенты корреляции по данным за все 365/366 дней каждого года. Попробуйте выдвинуть гипотезы, почему случались те или иные взлёты/падения, в зависимости от политических и исторических событий.\n",
        " \n",
        "\n"
      ]
    },
    {
      "cell_type": "markdown",
      "metadata": {
        "id": "1MOJr5NDdELd"
      },
      "source": [
        "## Импорты и подготовка данных"
      ]
    },
    {
      "cell_type": "code",
      "metadata": {
        "id": "jOPrvNJWacDa"
      },
      "source": [
        "import xml.etree.ElementTree as ET\n",
        "import requests\n",
        "import pandas as pd\n",
        "import numpy as np\n",
        "from functools import reduce\n",
        "import matplotlib.pyplot as plt\n",
        "import seaborn as sns"
      ],
      "execution_count": 1,
      "outputs": []
    },
    {
      "cell_type": "markdown",
      "metadata": {
        "id": "v9uf4CoYih0S"
      },
      "source": [
        "### Получение таблицы доступных валют"
      ]
    },
    {
      "cell_type": "code",
      "metadata": {
        "id": "VNyh-xN8vvlS"
      },
      "source": [
        "'''\n",
        "Получим пары название-ISO код валюты\n",
        "\n",
        "'''\n",
        "req = requests.get('http://www.cbr.ru/scripts/XML_valFull.asp')\n",
        "root = ET.ElementTree(ET.fromstring(req.content)).getroot()\n",
        "df_index = ['name', 'ISO_char_code']\n",
        "name_code = pd.DataFrame(columns= df_index)\n",
        "for element in root:\n",
        "    name_code = name_code.append(pd.Series([element[0].text, element[-1].text], index=df_index), ignore_index=True)"
      ],
      "execution_count": 2,
      "outputs": []
    },
    {
      "cell_type": "code",
      "metadata": {
        "id": "fEn29Wu3anzd",
        "outputId": "973e51dc-2442-4bcd-9453-8925cd412353",
        "colab": {
          "base_uri": "https://localhost:8080/",
          "height": 204
        }
      },
      "source": [
        "'''\n",
        "Получим таблицу валют с ежедневным обновлением курса\n",
        "\n",
        "'''\n",
        "req = requests.get('http://www.cbr.ru/scripts/XML_val.asp?d=0')\n",
        "root = ET.ElementTree(ET.fromstring(req.content)).getroot()\n",
        "\n",
        "\n",
        "df_index = ['name', 'eng_name', 'nominal', 'code']   \n",
        "currency_code = pd.DataFrame(columns=df_index)  \n",
        "  \n",
        "for element in root:  \n",
        "    elements = [element[0].text, element[1].text, element[2].text, element[3].text.strip(' ')]  \n",
        "    currency_code = currency_code.append(pd.Series(elements, index=df_index), ignore_index=True) \n",
        "currency_code = pd.merge(currency_code,name_code,on='name')\n",
        "\n",
        "\n",
        "currency_code.head()"
      ],
      "execution_count": 4,
      "outputs": [
        {
          "output_type": "execute_result",
          "data": {
            "text/html": [
              "<div>\n",
              "<style scoped>\n",
              "    .dataframe tbody tr th:only-of-type {\n",
              "        vertical-align: middle;\n",
              "    }\n",
              "\n",
              "    .dataframe tbody tr th {\n",
              "        vertical-align: top;\n",
              "    }\n",
              "\n",
              "    .dataframe thead th {\n",
              "        text-align: right;\n",
              "    }\n",
              "</style>\n",
              "<table border=\"1\" class=\"dataframe\">\n",
              "  <thead>\n",
              "    <tr style=\"text-align: right;\">\n",
              "      <th></th>\n",
              "      <th>name</th>\n",
              "      <th>eng_name</th>\n",
              "      <th>nominal</th>\n",
              "      <th>code</th>\n",
              "      <th>ISO_char_code</th>\n",
              "    </tr>\n",
              "  </thead>\n",
              "  <tbody>\n",
              "    <tr>\n",
              "      <th>0</th>\n",
              "      <td>Австралийский доллар</td>\n",
              "      <td>Australian Dollar</td>\n",
              "      <td>1</td>\n",
              "      <td>R01010</td>\n",
              "      <td>AUD</td>\n",
              "    </tr>\n",
              "    <tr>\n",
              "      <th>1</th>\n",
              "      <td>Австрийский шиллинг</td>\n",
              "      <td>Austrian Shilling</td>\n",
              "      <td>1000</td>\n",
              "      <td>R01015</td>\n",
              "      <td>ATS</td>\n",
              "    </tr>\n",
              "    <tr>\n",
              "      <th>2</th>\n",
              "      <td>Азербайджанский манат</td>\n",
              "      <td>Azerbaijan Manat</td>\n",
              "      <td>1</td>\n",
              "      <td>R01020</td>\n",
              "      <td>AZN</td>\n",
              "    </tr>\n",
              "    <tr>\n",
              "      <th>3</th>\n",
              "      <td>Фунт стерлингов Соединенного королевства</td>\n",
              "      <td>British Pound Sterling</td>\n",
              "      <td>1</td>\n",
              "      <td>R01035</td>\n",
              "      <td>GBP</td>\n",
              "    </tr>\n",
              "    <tr>\n",
              "      <th>4</th>\n",
              "      <td>Ангольская новая кванза</td>\n",
              "      <td>Angolan new Kwanza</td>\n",
              "      <td>100000</td>\n",
              "      <td>R01040</td>\n",
              "      <td>AON</td>\n",
              "    </tr>\n",
              "  </tbody>\n",
              "</table>\n",
              "</div>"
            ],
            "text/plain": [
              "                                       name  ... ISO_char_code\n",
              "0                      Австралийский доллар  ...           AUD\n",
              "1                       Австрийский шиллинг  ...           ATS\n",
              "2                     Азербайджанский манат  ...           AZN\n",
              "3  Фунт стерлингов Соединенного королевства  ...           GBP\n",
              "4                   Ангольская новая кванза  ...           AON\n",
              "\n",
              "[5 rows x 5 columns]"
            ]
          },
          "metadata": {
            "tags": []
          },
          "execution_count": 4
        }
      ]
    },
    {
      "cell_type": "markdown",
      "metadata": {
        "id": "SuhDzeQtisEZ"
      },
      "source": [
        "### Функции для загрузки данных о курсе валют"
      ]
    },
    {
      "cell_type": "code",
      "metadata": {
        "id": "lHNm2aVeap8L",
        "outputId": "09667e86-d1d9-444d-dc3f-17a303b9ae3b",
        "colab": {
          "base_uri": "https://localhost:8080/",
          "height": 204
        }
      },
      "source": [
        "'''\n",
        " Загрузка датафрейма с датой, курсом \n",
        " по ISO_char_code\n",
        " Здесь в дни, когда данные отсутствуют, курс равен курсу на предыдущий день\n",
        " Если не известен курс на первый день, он будет\n",
        " '''\n",
        "\n",
        "def load_currency_by_char_code(char_code, start_date ='02/03/2012', end_date ='14/03/2013'):\n",
        "    code = currency_code[currency_code['ISO_char_code']==char_code].code.values[0]\n",
        "    url = \"http://www.cbr.ru/scripts/XML_dynamic.asp?date_req1={}&date_req2={}&VAL_NM_RQ={}\".format(start_date, end_date, code)\n",
        "    req = requests.get(url)\n",
        "    root = ET.ElementTree(ET.fromstring(req.content)).getroot()\n",
        "    df_index = ['date', char_code]\n",
        "    df = pd.DataFrame(columns=df_index)\n",
        "    df['date'] = pd.date_range(start=pd.to_datetime(start_date,format='%d/%m/%Y'),end=pd.to_datetime(end_date,format='%d/%m/%Y')) \n",
        "    for element in root:\n",
        "        d = pd.to_datetime(element.get('Date'),format='%d.%m.%Y')\n",
        "        df.loc[(d == df.date), char_code] = float(element[1].text.replace(',', '.'))/float(element[0].text)\n",
        "    df.fillna(method = 'backfill', inplace=True)\n",
        "    df.dropna(inplace=True)\n",
        "    return df\n",
        "load_currency_by_char_code(char_code = 'SGD').head()"
      ],
      "execution_count": 5,
      "outputs": [
        {
          "output_type": "execute_result",
          "data": {
            "text/html": [
              "<div>\n",
              "<style scoped>\n",
              "    .dataframe tbody tr th:only-of-type {\n",
              "        vertical-align: middle;\n",
              "    }\n",
              "\n",
              "    .dataframe tbody tr th {\n",
              "        vertical-align: top;\n",
              "    }\n",
              "\n",
              "    .dataframe thead th {\n",
              "        text-align: right;\n",
              "    }\n",
              "</style>\n",
              "<table border=\"1\" class=\"dataframe\">\n",
              "  <thead>\n",
              "    <tr style=\"text-align: right;\">\n",
              "      <th></th>\n",
              "      <th>date</th>\n",
              "      <th>SGD</th>\n",
              "    </tr>\n",
              "  </thead>\n",
              "  <tbody>\n",
              "    <tr>\n",
              "      <th>0</th>\n",
              "      <td>2012-03-02</td>\n",
              "      <td>23.3974</td>\n",
              "    </tr>\n",
              "    <tr>\n",
              "      <th>1</th>\n",
              "      <td>2012-03-03</td>\n",
              "      <td>23.4481</td>\n",
              "    </tr>\n",
              "    <tr>\n",
              "      <th>2</th>\n",
              "      <td>2012-03-04</td>\n",
              "      <td>23.2805</td>\n",
              "    </tr>\n",
              "    <tr>\n",
              "      <th>3</th>\n",
              "      <td>2012-03-05</td>\n",
              "      <td>23.2805</td>\n",
              "    </tr>\n",
              "    <tr>\n",
              "      <th>4</th>\n",
              "      <td>2012-03-06</td>\n",
              "      <td>23.2805</td>\n",
              "    </tr>\n",
              "  </tbody>\n",
              "</table>\n",
              "</div>"
            ],
            "text/plain": [
              "        date      SGD\n",
              "0 2012-03-02  23.3974\n",
              "1 2012-03-03  23.4481\n",
              "2 2012-03-04  23.2805\n",
              "3 2012-03-05  23.2805\n",
              "4 2012-03-06  23.2805"
            ]
          },
          "metadata": {
            "tags": []
          },
          "execution_count": 5
        }
      ]
    },
    {
      "cell_type": "code",
      "metadata": {
        "id": "HbANc1cnmpyB"
      },
      "source": [
        "'''\n",
        "Датафрейм с данными по всем интересующим валютам в диапазоне start_date : end_date\n",
        "'''\n",
        "def join_df_with_exchange_rate(codes, start_date = '01/01/2017', end_date = '01/01/2019'):\n",
        "    dfs = [load_currency_by_char_code(char_code, start_date, end_date) for char_code in codes]\n",
        "    df = reduce(lambda left,right: pd.merge(left,right,on='date'), dfs)\n",
        "    return df\n"
      ],
      "execution_count": 6,
      "outputs": []
    },
    {
      "cell_type": "markdown",
      "metadata": {
        "id": "vi9Ji1Bfdqag"
      },
      "source": [
        "##Задача 1"
      ]
    },
    {
      "cell_type": "markdown",
      "metadata": {
        "id": "T4w8kXCZdhgR"
      },
      "source": [
        "Для каждых последовательных 7 дней (например: 01.01.2000-07.01.2000, 02.01.2000-08.01.2000 и т. п.) найдите самую выгодную валюту - ту, относительно которой все остальные падали"
      ]
    },
    {
      "cell_type": "markdown",
      "metadata": {
        "id": "FnCNnpODjeP4"
      },
      "source": [
        "### Функции"
      ]
    },
    {
      "cell_type": "code",
      "metadata": {
        "id": "SYyihcP2jdzR"
      },
      "source": [
        "''' \n",
        "Вывод результатов. \n",
        "Для определения лучшей валюты была использована функция pct_change() и по 7 дням взято среднее для каждой валюты\n",
        "В результате для каждой группы из 7 дней выбирается валюта, у которой среднее значение pct_change() максимально\n",
        "'''\n",
        "def best_for_week(df):\n",
        "    table_best = df.groupby([pd.Grouper(key = 'date', freq='1W')]).agg(lambda x: np.mean(x.pct_change()))\n",
        "    new_df = pd.DataFrame(data={'date' : table_best.max(axis=1).index,\n",
        "                   'best' : table_best.idxmax(axis=1),\n",
        "                   'growth' : table_best.max(axis=1)}).reset_index(drop=True)\n",
        "    new_df.dropna(how='any', axis=0,inplace=True)\n",
        "    new_df  = new_df.merge(name_code,how='left',left_on='best', right_on='ISO_char_code').drop('ISO_char_code', axis=1)\n",
        "    \n",
        "    return new_df\n",
        "\n"
      ],
      "execution_count": 30,
      "outputs": []
    },
    {
      "cell_type": "markdown",
      "metadata": {
        "id": "kgzvT5oCjiSf"
      },
      "source": [
        "### Решение"
      ]
    },
    {
      "cell_type": "markdown",
      "metadata": {
        "id": "Pb0m8ORikDWQ"
      },
      "source": [
        "Выберем 5 валют для анализа"
      ]
    },
    {
      "cell_type": "code",
      "metadata": {
        "id": "SzMU_CIbdfkz",
        "outputId": "9c70d7ed-18a5-4f77-8a11-f880bab57eb2",
        "colab": {
          "base_uri": "https://localhost:8080/",
          "height": 187
        }
      },
      "source": [
        "random_code = ['SGD', 'JPY', 'AUD', 'NOK', 'BYN']\n",
        "random_curr = currency_code[currency_code.ISO_char_code.isin(random_code)]\n",
        "print('Будем рассматривать следующие валюты:\\n')\n",
        "print('{: >20} | {: <}'.format('Название', 'Код'))\n",
        "print(\"_\"*27)\n",
        "print('')\n",
        "for i, j in zip(random_curr.name, random_curr.ISO_char_code):\n",
        "    print('{: >20} | {: <3}'.format(i, j))\n"
      ],
      "execution_count": 20,
      "outputs": [
        {
          "output_type": "stream",
          "text": [
            "Будем рассматривать следующие валюты:\n",
            "\n",
            "            Название | Код\n",
            "___________________________\n",
            "\n",
            "Австралийский доллар | AUD\n",
            "   Белорусский рубль | BYN\n",
            "    Норвежская крона | NOK\n",
            " Сингапурский доллар | SGD\n",
            "       Японская иена | JPY\n"
          ],
          "name": "stdout"
        }
      ]
    },
    {
      "cell_type": "markdown",
      "metadata": {
        "id": "1n79c2VInBBe"
      },
      "source": [
        "Будем рассматривать данные по валютам в промежутке от 01.01.2017 до 01.01.2019\n"
      ]
    },
    {
      "cell_type": "code",
      "metadata": {
        "id": "gpr90Q-immVs"
      },
      "source": [
        "start_date='01/01/2017'\n",
        "end_date='30/12/2019'\n",
        "currency_df = join_df_with_exchange_rate(random_code, start_date=start_date, end_date=end_date)"
      ],
      "execution_count": 21,
      "outputs": []
    },
    {
      "cell_type": "markdown",
      "metadata": {
        "id": "GKnTm8bvnXMt"
      },
      "source": [
        "Выведем на экран несколько первых строк датафрейма"
      ]
    },
    {
      "cell_type": "code",
      "metadata": {
        "id": "po3lOFw1nidF",
        "cellView": "code",
        "outputId": "721831bb-9621-4460-c15f-052ea301f116",
        "colab": {
          "base_uri": "https://localhost:8080/",
          "height": 204
        }
      },
      "source": [
        "currency_df.head()"
      ],
      "execution_count": 22,
      "outputs": [
        {
          "output_type": "execute_result",
          "data": {
            "text/html": [
              "<div>\n",
              "<style scoped>\n",
              "    .dataframe tbody tr th:only-of-type {\n",
              "        vertical-align: middle;\n",
              "    }\n",
              "\n",
              "    .dataframe tbody tr th {\n",
              "        vertical-align: top;\n",
              "    }\n",
              "\n",
              "    .dataframe thead th {\n",
              "        text-align: right;\n",
              "    }\n",
              "</style>\n",
              "<table border=\"1\" class=\"dataframe\">\n",
              "  <thead>\n",
              "    <tr style=\"text-align: right;\">\n",
              "      <th></th>\n",
              "      <th>date</th>\n",
              "      <th>SGD</th>\n",
              "      <th>JPY</th>\n",
              "      <th>AUD</th>\n",
              "      <th>NOK</th>\n",
              "      <th>BYN</th>\n",
              "    </tr>\n",
              "  </thead>\n",
              "  <tbody>\n",
              "    <tr>\n",
              "      <th>0</th>\n",
              "      <td>2017-01-01</td>\n",
              "      <td>41.5887</td>\n",
              "      <td>0.511124</td>\n",
              "      <td>43.8799</td>\n",
              "      <td>7.0131</td>\n",
              "      <td>30.5826</td>\n",
              "    </tr>\n",
              "    <tr>\n",
              "      <th>1</th>\n",
              "      <td>2017-01-02</td>\n",
              "      <td>41.5887</td>\n",
              "      <td>0.511124</td>\n",
              "      <td>43.8799</td>\n",
              "      <td>7.0131</td>\n",
              "      <td>30.5826</td>\n",
              "    </tr>\n",
              "    <tr>\n",
              "      <th>2</th>\n",
              "      <td>2017-01-03</td>\n",
              "      <td>41.5887</td>\n",
              "      <td>0.511124</td>\n",
              "      <td>43.8799</td>\n",
              "      <td>7.0131</td>\n",
              "      <td>30.5826</td>\n",
              "    </tr>\n",
              "    <tr>\n",
              "      <th>3</th>\n",
              "      <td>2017-01-04</td>\n",
              "      <td>41.5887</td>\n",
              "      <td>0.511124</td>\n",
              "      <td>43.8799</td>\n",
              "      <td>7.0131</td>\n",
              "      <td>30.5826</td>\n",
              "    </tr>\n",
              "    <tr>\n",
              "      <th>4</th>\n",
              "      <td>2017-01-05</td>\n",
              "      <td>41.5887</td>\n",
              "      <td>0.511124</td>\n",
              "      <td>43.8799</td>\n",
              "      <td>7.0131</td>\n",
              "      <td>30.5826</td>\n",
              "    </tr>\n",
              "  </tbody>\n",
              "</table>\n",
              "</div>"
            ],
            "text/plain": [
              "        date      SGD       JPY      AUD     NOK      BYN\n",
              "0 2017-01-01  41.5887  0.511124  43.8799  7.0131  30.5826\n",
              "1 2017-01-02  41.5887  0.511124  43.8799  7.0131  30.5826\n",
              "2 2017-01-03  41.5887  0.511124  43.8799  7.0131  30.5826\n",
              "3 2017-01-04  41.5887  0.511124  43.8799  7.0131  30.5826\n",
              "4 2017-01-05  41.5887  0.511124  43.8799  7.0131  30.5826"
            ]
          },
          "metadata": {
            "tags": []
          },
          "execution_count": 22
        }
      ]
    },
    {
      "cell_type": "markdown",
      "metadata": {
        "id": "Yk1Tj4Zin3bk"
      },
      "source": [
        "С помощью функции best_for_week узнаем, какая валюта показывала наибольший рост в каждую неделю.\n",
        "Выведем результаты за первые 10 недель"
      ]
    },
    {
      "cell_type": "code",
      "metadata": {
        "id": "7VKUfWkLGWnp",
        "outputId": "419204bf-3b1a-4c23-96d4-d86702e58007",
        "colab": {
          "base_uri": "https://localhost:8080/",
          "height": 359
        }
      },
      "source": [
        "best_by_week = best_for_week(currency_df)\n",
        "best_by_week.head(10)"
      ],
      "execution_count": 31,
      "outputs": [
        {
          "output_type": "execute_result",
          "data": {
            "text/html": [
              "<div>\n",
              "<style scoped>\n",
              "    .dataframe tbody tr th:only-of-type {\n",
              "        vertical-align: middle;\n",
              "    }\n",
              "\n",
              "    .dataframe tbody tr th {\n",
              "        vertical-align: top;\n",
              "    }\n",
              "\n",
              "    .dataframe thead th {\n",
              "        text-align: right;\n",
              "    }\n",
              "</style>\n",
              "<table border=\"1\" class=\"dataframe\">\n",
              "  <thead>\n",
              "    <tr style=\"text-align: right;\">\n",
              "      <th></th>\n",
              "      <th>date</th>\n",
              "      <th>best</th>\n",
              "      <th>growth</th>\n",
              "      <th>name</th>\n",
              "    </tr>\n",
              "  </thead>\n",
              "  <tbody>\n",
              "    <tr>\n",
              "      <th>0</th>\n",
              "      <td>2017-01-08</td>\n",
              "      <td>SGD</td>\n",
              "      <td>0.000000</td>\n",
              "      <td>Сингапурский доллар</td>\n",
              "    </tr>\n",
              "    <tr>\n",
              "      <th>1</th>\n",
              "      <td>2017-01-15</td>\n",
              "      <td>JPY</td>\n",
              "      <td>0.003835</td>\n",
              "      <td>Японская иена</td>\n",
              "    </tr>\n",
              "    <tr>\n",
              "      <th>2</th>\n",
              "      <td>2017-01-22</td>\n",
              "      <td>NOK</td>\n",
              "      <td>0.002448</td>\n",
              "      <td>Норвежская крона</td>\n",
              "    </tr>\n",
              "    <tr>\n",
              "      <th>3</th>\n",
              "      <td>2017-01-29</td>\n",
              "      <td>NOK</td>\n",
              "      <td>0.003092</td>\n",
              "      <td>Норвежская крона</td>\n",
              "    </tr>\n",
              "    <tr>\n",
              "      <th>4</th>\n",
              "      <td>2017-02-05</td>\n",
              "      <td>JPY</td>\n",
              "      <td>-0.000775</td>\n",
              "      <td>Японская иена</td>\n",
              "    </tr>\n",
              "    <tr>\n",
              "      <th>5</th>\n",
              "      <td>2017-02-12</td>\n",
              "      <td>BYN</td>\n",
              "      <td>0.000258</td>\n",
              "      <td>Белорусский рубль</td>\n",
              "    </tr>\n",
              "    <tr>\n",
              "      <th>6</th>\n",
              "      <td>2017-02-19</td>\n",
              "      <td>BYN</td>\n",
              "      <td>0.001085</td>\n",
              "      <td>Белорусский рубль</td>\n",
              "    </tr>\n",
              "    <tr>\n",
              "      <th>7</th>\n",
              "      <td>2017-02-26</td>\n",
              "      <td>SGD</td>\n",
              "      <td>0.000845</td>\n",
              "      <td>Сингапурский доллар</td>\n",
              "    </tr>\n",
              "    <tr>\n",
              "      <th>8</th>\n",
              "      <td>2017-03-05</td>\n",
              "      <td>SGD</td>\n",
              "      <td>0.000894</td>\n",
              "      <td>Сингапурский доллар</td>\n",
              "    </tr>\n",
              "    <tr>\n",
              "      <th>9</th>\n",
              "      <td>2017-03-12</td>\n",
              "      <td>AUD</td>\n",
              "      <td>0.001957</td>\n",
              "      <td>Австралийский доллар</td>\n",
              "    </tr>\n",
              "  </tbody>\n",
              "</table>\n",
              "</div>"
            ],
            "text/plain": [
              "        date best    growth                  name\n",
              "0 2017-01-08  SGD  0.000000   Сингапурский доллар\n",
              "1 2017-01-15  JPY  0.003835         Японская иена\n",
              "2 2017-01-22  NOK  0.002448      Норвежская крона\n",
              "3 2017-01-29  NOK  0.003092      Норвежская крона\n",
              "4 2017-02-05  JPY -0.000775         Японская иена\n",
              "5 2017-02-12  BYN  0.000258     Белорусский рубль\n",
              "6 2017-02-19  BYN  0.001085     Белорусский рубль\n",
              "7 2017-02-26  SGD  0.000845   Сингапурский доллар\n",
              "8 2017-03-05  SGD  0.000894   Сингапурский доллар\n",
              "9 2017-03-12  AUD  0.001957  Австралийский доллар"
            ]
          },
          "metadata": {
            "tags": []
          },
          "execution_count": 31
        }
      ]
    },
    {
      "cell_type": "markdown",
      "metadata": {
        "id": "QgxTgDTiSt5g"
      },
      "source": [
        "## Задача 2\n"
      ]
    },
    {
      "cell_type": "markdown",
      "metadata": {
        "id": "f70DIOPASxdV"
      },
      "source": [
        "Для каждого 30-дневного промежутка определите, на сколько процентов вы могли бы увеличить свой капитал за 30 дней, если бы знали курсы валют наперёд - считайте, что вечером вы можете перекладывать все ваши средства в одну или несколько валют, найдите самый выгодный такой период"
      ]
    },
    {
      "cell_type": "markdown",
      "metadata": {
        "id": "WSovvWIovaAA"
      },
      "source": [
        "### Функции"
      ]
    },
    {
      "cell_type": "code",
      "metadata": {
        "id": "YXZgtf4rTR3E"
      },
      "source": [
        "def increase_capital(currency_df):\n",
        "    new_df = currency_df.copy()\n",
        "    new_df['max_change'] = new_df.drop('date', axis=1).apply('pct_change').max(axis=1)\n",
        "    data = new_df.groupby([pd.Grouper(key = 'date', freq='1m')]).apply(lambda x: 100*(np.prod((x.iloc[:, -1]+1))-1))\n",
        "    df = pd.DataFrame(data={'month' : data.index.to_period('M'),\n",
        "                   'growth_percent' : data}).reset_index(drop=True)\n",
        "    return df"
      ],
      "execution_count": 32,
      "outputs": []
    },
    {
      "cell_type": "markdown",
      "metadata": {
        "id": "HL85WtjowtGu"
      },
      "source": [
        "### Решение"
      ]
    },
    {
      "cell_type": "code",
      "metadata": {
        "id": "8uAjdi73YlXc"
      },
      "source": [
        "capital = 300\n",
        "increasing_data = increase_capital(currency_df)"
      ],
      "execution_count": 33,
      "outputs": []
    },
    {
      "cell_type": "markdown",
      "metadata": {
        "id": "eK2rbY5Ywwm0"
      },
      "source": [
        "Выедем первые несколько месяцев"
      ]
    },
    {
      "cell_type": "code",
      "metadata": {
        "id": "s_jlwQgww1-s",
        "outputId": "75ff460a-5458-4fea-ca81-9f0cff241297",
        "colab": {
          "base_uri": "https://localhost:8080/",
          "height": 204
        }
      },
      "source": [
        "increasing_data.head()"
      ],
      "execution_count": 34,
      "outputs": [
        {
          "output_type": "execute_result",
          "data": {
            "text/html": [
              "<div>\n",
              "<style scoped>\n",
              "    .dataframe tbody tr th:only-of-type {\n",
              "        vertical-align: middle;\n",
              "    }\n",
              "\n",
              "    .dataframe tbody tr th {\n",
              "        vertical-align: top;\n",
              "    }\n",
              "\n",
              "    .dataframe thead th {\n",
              "        text-align: right;\n",
              "    }\n",
              "</style>\n",
              "<table border=\"1\" class=\"dataframe\">\n",
              "  <thead>\n",
              "    <tr style=\"text-align: right;\">\n",
              "      <th></th>\n",
              "      <th>month</th>\n",
              "      <th>growth_percent</th>\n",
              "    </tr>\n",
              "  </thead>\n",
              "  <tbody>\n",
              "    <tr>\n",
              "      <th>0</th>\n",
              "      <td>2017-01</td>\n",
              "      <td>8.618210</td>\n",
              "    </tr>\n",
              "    <tr>\n",
              "      <th>1</th>\n",
              "      <td>2017-02</td>\n",
              "      <td>7.323537</td>\n",
              "    </tr>\n",
              "    <tr>\n",
              "      <th>2</th>\n",
              "      <td>2017-03</td>\n",
              "      <td>5.305913</td>\n",
              "    </tr>\n",
              "    <tr>\n",
              "      <th>3</th>\n",
              "      <td>2017-04</td>\n",
              "      <td>9.958836</td>\n",
              "    </tr>\n",
              "    <tr>\n",
              "      <th>4</th>\n",
              "      <td>2017-05</td>\n",
              "      <td>9.126306</td>\n",
              "    </tr>\n",
              "  </tbody>\n",
              "</table>\n",
              "</div>"
            ],
            "text/plain": [
              "     month  growth_percent\n",
              "0  2017-01        8.618210\n",
              "1  2017-02        7.323537\n",
              "2  2017-03        5.305913\n",
              "3  2017-04        9.958836\n",
              "4  2017-05        9.126306"
            ]
          },
          "metadata": {
            "tags": []
          },
          "execution_count": 34
        }
      ]
    },
    {
      "cell_type": "code",
      "metadata": {
        "id": "s5AQ5QPPxyNg",
        "outputId": "f17099a7-e567-4566-8d8b-afc9e713b4d3",
        "colab": {
          "base_uri": "https://localhost:8080/",
          "height": 34
        }
      },
      "source": [
        "increasing_data.max(axis=0).loc['growth_percent']"
      ],
      "execution_count": 35,
      "outputs": [
        {
          "output_type": "execute_result",
          "data": {
            "text/plain": [
              "18.470905106331294"
            ]
          },
          "metadata": {
            "tags": []
          },
          "execution_count": 35
        }
      ]
    },
    {
      "cell_type": "code",
      "metadata": {
        "id": "5PN5IusPZn2D",
        "outputId": "22d5831c-709d-4b14-bcd1-89a894272d42",
        "colab": {
          "base_uri": "https://localhost:8080/",
          "height": 85
        }
      },
      "source": [
        "best_month = increasing_data.iloc[increasing_data['growth_percent'].idxmax()].month \n",
        "best_value = increasing_data['growth_percent'].max()\n",
        "print('В период с {} по {}'.format(start_date, end_date))\n",
        "print('Самый выгодный период: {},\\nстартовый вклад {:.2f} увеличится на {:.2f}% \\nи составит {:.2f}'.\n",
        "      format(best_month, capital, best_value, capital*(100+best_value)/100))"
      ],
      "execution_count": 36,
      "outputs": [
        {
          "output_type": "stream",
          "text": [
            "В период с 01/01/2017 по 30/12/2019\n",
            "Самый выгодный период: 2018-04,\n",
            "стартовый вклад 300.00 увеличится на 18.47% \n",
            "и составит 355.41\n"
          ],
          "name": "stdout"
        }
      ]
    },
    {
      "cell_type": "markdown",
      "metadata": {
        "id": "pNitBKTddJD1"
      },
      "source": [
        "## Задача 3"
      ]
    },
    {
      "cell_type": "markdown",
      "metadata": {
        "id": "962NhHyIdOBN"
      },
      "source": [
        "Найдите наиболее и наименее коррелированные (по отношению друг к другу) валюты в каждом календарном году. Для этого посчитайте коэффициенты корреляции по данным за все 365/366 дней каждого года. Попробуйте выдвинуть гипотезы, почему случались те или иные взлёты/падения, в зависимости от политических и исторических событий."
      ]
    },
    {
      "cell_type": "markdown",
      "metadata": {
        "id": "1Gct2RSz1GWr"
      },
      "source": [
        "### Функции"
      ]
    },
    {
      "cell_type": "code",
      "metadata": {
        "id": "lB0F-tiCdMdb"
      },
      "source": [
        "def corr_by_year(df):\n",
        "    df = df.copy()\n",
        "    df.drop('date', axis=1).apply('corr')\n",
        "    df = df.groupby([pd.Grouper(key = 'date', freq='1y')])[df.columns.values[1:]].corr()\n",
        "    df.index = df.index.set_levels(df.index.levels[0].to_period('Y'), level=0)\n",
        "    df = df.rename_axis(index=['year', 'code'])\n",
        "    return df"
      ],
      "execution_count": 37,
      "outputs": []
    },
    {
      "cell_type": "markdown",
      "metadata": {
        "id": "uY0FVKIY-f88"
      },
      "source": [
        "## Решение"
      ]
    },
    {
      "cell_type": "code",
      "metadata": {
        "id": "qC1ISU16fLsv"
      },
      "source": [
        "corr_df = corr_by_year(currency_df)"
      ],
      "execution_count": 38,
      "outputs": []
    },
    {
      "cell_type": "markdown",
      "metadata": {
        "id": "gTmuHuwH-io6"
      },
      "source": [
        "Так как данных не много, выведем все результаты на экран\n"
      ]
    },
    {
      "cell_type": "code",
      "metadata": {
        "id": "p0LfavY58CIF",
        "outputId": "8dd1cee7-431b-423a-ef5d-5524eb6c3247",
        "colab": {
          "base_uri": "https://localhost:8080/",
          "height": 545
        }
      },
      "source": [
        "corr_df"
      ],
      "execution_count": 39,
      "outputs": [
        {
          "output_type": "execute_result",
          "data": {
            "text/html": [
              "<div>\n",
              "<style scoped>\n",
              "    .dataframe tbody tr th:only-of-type {\n",
              "        vertical-align: middle;\n",
              "    }\n",
              "\n",
              "    .dataframe tbody tr th {\n",
              "        vertical-align: top;\n",
              "    }\n",
              "\n",
              "    .dataframe thead th {\n",
              "        text-align: right;\n",
              "    }\n",
              "</style>\n",
              "<table border=\"1\" class=\"dataframe\">\n",
              "  <thead>\n",
              "    <tr style=\"text-align: right;\">\n",
              "      <th></th>\n",
              "      <th></th>\n",
              "      <th>SGD</th>\n",
              "      <th>JPY</th>\n",
              "      <th>AUD</th>\n",
              "      <th>NOK</th>\n",
              "      <th>BYN</th>\n",
              "    </tr>\n",
              "    <tr>\n",
              "      <th>year</th>\n",
              "      <th>code</th>\n",
              "      <th></th>\n",
              "      <th></th>\n",
              "      <th></th>\n",
              "      <th></th>\n",
              "      <th></th>\n",
              "    </tr>\n",
              "  </thead>\n",
              "  <tbody>\n",
              "    <tr>\n",
              "      <th rowspan=\"5\" valign=\"top\">2017</th>\n",
              "      <th>SGD</th>\n",
              "      <td>1.000000</td>\n",
              "      <td>0.731813</td>\n",
              "      <td>0.832565</td>\n",
              "      <td>0.851122</td>\n",
              "      <td>-0.263721</td>\n",
              "    </tr>\n",
              "    <tr>\n",
              "      <th>JPY</th>\n",
              "      <td>0.731813</td>\n",
              "      <td>1.000000</td>\n",
              "      <td>0.775115</td>\n",
              "      <td>0.717239</td>\n",
              "      <td>0.258853</td>\n",
              "    </tr>\n",
              "    <tr>\n",
              "      <th>AUD</th>\n",
              "      <td>0.832565</td>\n",
              "      <td>0.775115</td>\n",
              "      <td>1.000000</td>\n",
              "      <td>0.937837</td>\n",
              "      <td>0.046326</td>\n",
              "    </tr>\n",
              "    <tr>\n",
              "      <th>NOK</th>\n",
              "      <td>0.851122</td>\n",
              "      <td>0.717239</td>\n",
              "      <td>0.937837</td>\n",
              "      <td>1.000000</td>\n",
              "      <td>-0.073669</td>\n",
              "    </tr>\n",
              "    <tr>\n",
              "      <th>BYN</th>\n",
              "      <td>-0.263721</td>\n",
              "      <td>0.258853</td>\n",
              "      <td>0.046326</td>\n",
              "      <td>-0.073669</td>\n",
              "      <td>1.000000</td>\n",
              "    </tr>\n",
              "    <tr>\n",
              "      <th rowspan=\"5\" valign=\"top\">2018</th>\n",
              "      <th>SGD</th>\n",
              "      <td>1.000000</td>\n",
              "      <td>0.977510</td>\n",
              "      <td>0.949393</td>\n",
              "      <td>0.934163</td>\n",
              "      <td>0.906427</td>\n",
              "    </tr>\n",
              "    <tr>\n",
              "      <th>JPY</th>\n",
              "      <td>0.977510</td>\n",
              "      <td>1.000000</td>\n",
              "      <td>0.904296</td>\n",
              "      <td>0.925430</td>\n",
              "      <td>0.915475</td>\n",
              "    </tr>\n",
              "    <tr>\n",
              "      <th>AUD</th>\n",
              "      <td>0.949393</td>\n",
              "      <td>0.904296</td>\n",
              "      <td>1.000000</td>\n",
              "      <td>0.879935</td>\n",
              "      <td>0.866885</td>\n",
              "    </tr>\n",
              "    <tr>\n",
              "      <th>NOK</th>\n",
              "      <td>0.934163</td>\n",
              "      <td>0.925430</td>\n",
              "      <td>0.879935</td>\n",
              "      <td>1.000000</td>\n",
              "      <td>0.880011</td>\n",
              "    </tr>\n",
              "    <tr>\n",
              "      <th>BYN</th>\n",
              "      <td>0.906427</td>\n",
              "      <td>0.915475</td>\n",
              "      <td>0.866885</td>\n",
              "      <td>0.880011</td>\n",
              "      <td>1.000000</td>\n",
              "    </tr>\n",
              "    <tr>\n",
              "      <th rowspan=\"5\" valign=\"top\">2019</th>\n",
              "      <th>SGD</th>\n",
              "      <td>1.000000</td>\n",
              "      <td>0.521952</td>\n",
              "      <td>0.937425</td>\n",
              "      <td>0.818866</td>\n",
              "      <td>0.037524</td>\n",
              "    </tr>\n",
              "    <tr>\n",
              "      <th>JPY</th>\n",
              "      <td>0.521952</td>\n",
              "      <td>1.000000</td>\n",
              "      <td>0.326504</td>\n",
              "      <td>0.312110</td>\n",
              "      <td>0.692506</td>\n",
              "    </tr>\n",
              "    <tr>\n",
              "      <th>AUD</th>\n",
              "      <td>0.937425</td>\n",
              "      <td>0.326504</td>\n",
              "      <td>1.000000</td>\n",
              "      <td>0.931262</td>\n",
              "      <td>-0.112628</td>\n",
              "    </tr>\n",
              "    <tr>\n",
              "      <th>NOK</th>\n",
              "      <td>0.818866</td>\n",
              "      <td>0.312110</td>\n",
              "      <td>0.931262</td>\n",
              "      <td>1.000000</td>\n",
              "      <td>-0.036369</td>\n",
              "    </tr>\n",
              "    <tr>\n",
              "      <th>BYN</th>\n",
              "      <td>0.037524</td>\n",
              "      <td>0.692506</td>\n",
              "      <td>-0.112628</td>\n",
              "      <td>-0.036369</td>\n",
              "      <td>1.000000</td>\n",
              "    </tr>\n",
              "  </tbody>\n",
              "</table>\n",
              "</div>"
            ],
            "text/plain": [
              "                SGD       JPY       AUD       NOK       BYN\n",
              "year code                                                  \n",
              "2017 SGD   1.000000  0.731813  0.832565  0.851122 -0.263721\n",
              "     JPY   0.731813  1.000000  0.775115  0.717239  0.258853\n",
              "     AUD   0.832565  0.775115  1.000000  0.937837  0.046326\n",
              "     NOK   0.851122  0.717239  0.937837  1.000000 -0.073669\n",
              "     BYN  -0.263721  0.258853  0.046326 -0.073669  1.000000\n",
              "2018 SGD   1.000000  0.977510  0.949393  0.934163  0.906427\n",
              "     JPY   0.977510  1.000000  0.904296  0.925430  0.915475\n",
              "     AUD   0.949393  0.904296  1.000000  0.879935  0.866885\n",
              "     NOK   0.934163  0.925430  0.879935  1.000000  0.880011\n",
              "     BYN   0.906427  0.915475  0.866885  0.880011  1.000000\n",
              "2019 SGD   1.000000  0.521952  0.937425  0.818866  0.037524\n",
              "     JPY   0.521952  1.000000  0.326504  0.312110  0.692506\n",
              "     AUD   0.937425  0.326504  1.000000  0.931262 -0.112628\n",
              "     NOK   0.818866  0.312110  0.931262  1.000000 -0.036369\n",
              "     BYN   0.037524  0.692506 -0.112628 -0.036369  1.000000"
            ]
          },
          "metadata": {
            "tags": []
          },
          "execution_count": 39
        }
      ]
    },
    {
      "cell_type": "markdown",
      "metadata": {
        "id": "UyiHDdxE-rGB"
      },
      "source": [
        "Для наглядности построим heatmap для каждого года"
      ]
    },
    {
      "cell_type": "code",
      "metadata": {
        "id": "Z25iswFt8ZeV",
        "outputId": "530d0e2d-d5ce-4efd-cc81-b015cf02516f",
        "colab": {
          "base_uri": "https://localhost:8080/",
          "height": 378
        }
      },
      "source": [
        "fig, ax = plt.subplots(1,3, figsize=(18,6))\n",
        "\n",
        "for i, index in enumerate(set(corr_df.index.get_level_values(0))):\n",
        "    sns.heatmap(corr_df.loc[index], annot=True, ax=ax[i])"
      ],
      "execution_count": 40,
      "outputs": [
        {
          "output_type": "display_data",
          "data": {
            "image/png": "[encoded data removed]",
            "text/plain": [
              "<Figure size 1296x432 with 6 Axes>"
            ]
          },
          "metadata": {
            "tags": [],
            "needs_background": "light"
          }
        }
      ]
    },
    {
      "cell_type": "markdown",
      "metadata": {
        "id": "PaouZ-QIBhNk"
      },
      "source": [
        "Чтобы все линии на графике были примерно на одного масштаба, домножим курсы на номиналы соответствующих валют\n"
      ]
    },
    {
      "cell_type": "code",
      "metadata": {
        "id": "bKT66LS7AIAr",
        "outputId": "10e5cf49-97c2-4dfa-d02a-50497f17d5c7",
        "colab": {
          "base_uri": "https://localhost:8080/",
          "height": 204
        }
      },
      "source": [
        "currency_df_nom = currency_df.copy()\n",
        "for i in random_code:\n",
        "    currency_df_nom.loc[:, i]*=int(currency_code[currency_code['ISO_char_code']==i].nominal.values)\n",
        "currency_df_nom.head()"
      ],
      "execution_count": 41,
      "outputs": [
        {
          "output_type": "execute_result",
          "data": {
            "text/html": [
              "<div>\n",
              "<style scoped>\n",
              "    .dataframe tbody tr th:only-of-type {\n",
              "        vertical-align: middle;\n",
              "    }\n",
              "\n",
              "    .dataframe tbody tr th {\n",
              "        vertical-align: top;\n",
              "    }\n",
              "\n",
              "    .dataframe thead th {\n",
              "        text-align: right;\n",
              "    }\n",
              "</style>\n",
              "<table border=\"1\" class=\"dataframe\">\n",
              "  <thead>\n",
              "    <tr style=\"text-align: right;\">\n",
              "      <th></th>\n",
              "      <th>date</th>\n",
              "      <th>SGD</th>\n",
              "      <th>JPY</th>\n",
              "      <th>AUD</th>\n",
              "      <th>NOK</th>\n",
              "      <th>BYN</th>\n",
              "    </tr>\n",
              "  </thead>\n",
              "  <tbody>\n",
              "    <tr>\n",
              "      <th>0</th>\n",
              "      <td>2017-01-01</td>\n",
              "      <td>41.5887</td>\n",
              "      <td>51.1124</td>\n",
              "      <td>43.8799</td>\n",
              "      <td>70.131</td>\n",
              "      <td>30.5826</td>\n",
              "    </tr>\n",
              "    <tr>\n",
              "      <th>1</th>\n",
              "      <td>2017-01-02</td>\n",
              "      <td>41.5887</td>\n",
              "      <td>51.1124</td>\n",
              "      <td>43.8799</td>\n",
              "      <td>70.131</td>\n",
              "      <td>30.5826</td>\n",
              "    </tr>\n",
              "    <tr>\n",
              "      <th>2</th>\n",
              "      <td>2017-01-03</td>\n",
              "      <td>41.5887</td>\n",
              "      <td>51.1124</td>\n",
              "      <td>43.8799</td>\n",
              "      <td>70.131</td>\n",
              "      <td>30.5826</td>\n",
              "    </tr>\n",
              "    <tr>\n",
              "      <th>3</th>\n",
              "      <td>2017-01-04</td>\n",
              "      <td>41.5887</td>\n",
              "      <td>51.1124</td>\n",
              "      <td>43.8799</td>\n",
              "      <td>70.131</td>\n",
              "      <td>30.5826</td>\n",
              "    </tr>\n",
              "    <tr>\n",
              "      <th>4</th>\n",
              "      <td>2017-01-05</td>\n",
              "      <td>41.5887</td>\n",
              "      <td>51.1124</td>\n",
              "      <td>43.8799</td>\n",
              "      <td>70.131</td>\n",
              "      <td>30.5826</td>\n",
              "    </tr>\n",
              "  </tbody>\n",
              "</table>\n",
              "</div>"
            ],
            "text/plain": [
              "        date      SGD      JPY      AUD     NOK      BYN\n",
              "0 2017-01-01  41.5887  51.1124  43.8799  70.131  30.5826\n",
              "1 2017-01-02  41.5887  51.1124  43.8799  70.131  30.5826\n",
              "2 2017-01-03  41.5887  51.1124  43.8799  70.131  30.5826\n",
              "3 2017-01-04  41.5887  51.1124  43.8799  70.131  30.5826\n",
              "4 2017-01-05  41.5887  51.1124  43.8799  70.131  30.5826"
            ]
          },
          "metadata": {
            "tags": []
          },
          "execution_count": 41
        }
      ]
    },
    {
      "cell_type": "markdown",
      "metadata": {
        "id": "IRKQBGAlBu5d"
      },
      "source": [
        "Построим график колебания валют за выбранный промежуток"
      ]
    },
    {
      "cell_type": "code",
      "metadata": {
        "id": "PXvB9ofY-y5F",
        "outputId": "b43de6c7-80ea-4cbe-c8b4-787ac62a4ad8",
        "colab": {
          "base_uri": "https://localhost:8080/",
          "height": 525
        }
      },
      "source": [
        "currency_df_nom.plot.line(x='date', figsize=(18,8))"
      ],
      "execution_count": 42,
      "outputs": [
        {
          "output_type": "execute_result",
          "data": {
            "text/plain": [
              "<matplotlib.axes._subplots.AxesSubplot at 0x7fa365e10438>"
            ]
          },
          "metadata": {
            "tags": []
          },
          "execution_count": 42
        },
        {
          "output_type": "display_data",
          "data": {
            "image/png": "[encoded data removed]",
            "text/plain": [
              "<Figure size 1296x576 with 1 Axes>"
            ]
          },
          "metadata": {
            "tags": [],
            "needs_background": "light"
          }
        }
      ]
    },
    {
      "cell_type": "markdown",
      "metadata": {
        "id": "aV8Spt00CCPJ"
      },
      "source": [
        "* Из графика можно увидеть, что белорусский рубль весьма сильно связан с российским.\n",
        "* Японская йена поднялась в цене по отношению к рублю.\n",
        "* Сингапурский и австралийский доллары неплохо коррелируют между собой.\n",
        "* Норвежская крона в 2019 году падала по отношению к рублю. Возможны курс норвежской кроны сильнее зависит от нефти, чем рубль."
      ]
    }
  ]
}